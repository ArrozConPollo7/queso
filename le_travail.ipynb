{
  "nbformat": 4,
  "nbformat_minor": 0,
  "metadata": {
    "colab": {
      "name": "le travail.ipynb",
      "provenance": [],
      "collapsed_sections": [],
      "authorship_tag": "ABX9TyMtcpPxobxhg5dD0RWQSNsc",
      "include_colab_link": true
    },
    "kernelspec": {
      "name": "python3",
      "display_name": "Python 3"
    },
    "language_info": {
      "name": "python"
    }
  },
  "cells": [
    {
      "cell_type": "markdown",
      "metadata": {
        "id": "view-in-github",
        "colab_type": "text"
      },
      "source": [
        "<a href=\"https://colab.research.google.com/github/ArrozConPollo7/queso/blob/main/le_travail.ipynb\" target=\"_parent\"><img src=\"https://colab.research.google.com/assets/colab-badge.svg\" alt=\"Open In Colab\"/></a>"
      ]
    },
    {
      "cell_type": "markdown",
      "source": [
        "# Ejercicio #1 :D "
      ],
      "metadata": {
        "id": "o7tAgSZL0-vj"
      }
    },
    {
      "cell_type": "markdown",
      "source": [
        "Interacciòn 1:"
      ],
      "metadata": {
        "id": "sKZrdw3Q1vOb"
      }
    },
    {
      "cell_type": "code",
      "source": [
        "lista=[]\n",
        "i=1\n",
        "while i<11:\n",
        "    lista.append(i)\n",
        "    i=i+1\n",
        "print(lista)"
      ],
      "metadata": {
        "colab": {
          "base_uri": "https://localhost:8080/"
        },
        "id": "SjEbZfFt1DVD",
        "outputId": "d7ff6a4c-ac37-4b6d-c0f7-2dc737191172"
      },
      "execution_count": null,
      "outputs": [
        {
          "output_type": "stream",
          "name": "stdout",
          "text": [
            "[1, 2, 3, 4, 5, 6, 7, 8, 9, 10]\n"
          ]
        }
      ]
    },
    {
      "cell_type": "markdown",
      "source": [
        "Interacciòn 2:"
      ],
      "metadata": {
        "id": "cK0m-i0e2SNT"
      }
    },
    {
      "cell_type": "code",
      "source": [
        "lista=[]\n",
        "i=2\n",
        "while i<11:\n",
        "    lista.append(i)\n",
        "    i=i+1\n",
        "    if i>10:\n",
        "      lista.append(1)\n",
        "print(lista)"
      ],
      "metadata": {
        "colab": {
          "base_uri": "https://localhost:8080/"
        },
        "id": "GmcElt4g2V7S",
        "outputId": "ffcc3185-5810-4bf9-9e6b-e1401349c2d5"
      },
      "execution_count": null,
      "outputs": [
        {
          "output_type": "stream",
          "name": "stdout",
          "text": [
            "[1, 2, 3, 4, 5, 6, 7, 8, 9, 10, 1]\n"
          ]
        }
      ]
    },
    {
      "cell_type": "markdown",
      "source": [
        "Interacciòn 3:"
      ],
      "metadata": {
        "id": "zXev8umM2pOL"
      }
    },
    {
      "cell_type": "code",
      "source": [
        "lista=[]\n",
        "i=3\n",
        "while i<11:\n",
        "    lista.append(i)\n",
        "    i=i+1\n",
        "    if i>10:\n",
        "      lista.append(1)\n",
        "      lista.append(2)\n",
        "print(lista)"
      ],
      "metadata": {
        "colab": {
          "base_uri": "https://localhost:8080/"
        },
        "id": "tqzdAXO02rL6",
        "outputId": "73f81894-e5f6-45ba-dae3-83a0084247a0"
      },
      "execution_count": null,
      "outputs": [
        {
          "output_type": "stream",
          "name": "stdout",
          "text": [
            "[1, 2, 3, 4, 5, 6, 7, 8, 9, 10, 1, 2]\n"
          ]
        }
      ]
    },
    {
      "cell_type": "markdown",
      "source": [
        "Interacciòn 4:"
      ],
      "metadata": {
        "id": "XXZAQAOv3F5r"
      }
    },
    {
      "cell_type": "code",
      "source": [
        "lista=[]\n",
        "i=4\n",
        "while i<11:\n",
        "    lista.append(i)\n",
        "    i=i+1\n",
        "    if i>10:\n",
        "      lista.append(1)\n",
        "      lista.append(2)\n",
        "      lista.append(3)\n",
        "print(lista)"
      ],
      "metadata": {
        "id": "dBSMP6hW3HWT"
      },
      "execution_count": null,
      "outputs": []
    },
    {
      "cell_type": "markdown",
      "source": [
        "Interacciòn 5:"
      ],
      "metadata": {
        "id": "jUecFQSp3Nyz"
      }
    },
    {
      "cell_type": "code",
      "source": [
        "lista=[]\n",
        "i=5\n",
        "while i<11:\n",
        "    lista.append(i)\n",
        "    i=i+1\n",
        "    if i>10:\n",
        "      lista.append(1)\n",
        "      lista.append(2)\n",
        "      lista.append(3)\n",
        "      lista.append(4)\n",
        "print(lista)"
      ],
      "metadata": {
        "id": "1q6ZjBSI3uuU"
      },
      "execution_count": null,
      "outputs": []
    },
    {
      "cell_type": "markdown",
      "source": [
        "Interacciòn 6:"
      ],
      "metadata": {
        "id": "EPFhV2g73yDK"
      }
    },
    {
      "cell_type": "code",
      "source": [
        "lista=[]\n",
        "i=6\n",
        "while i<11:\n",
        "    lista.append(i)\n",
        "    i=i+1\n",
        "    if i>10:\n",
        "      lista.append(1)\n",
        "      lista.append(2)\n",
        "      lista.append(3)\n",
        "      lista.append(4)\n",
        "      lista.append(5)\n",
        "print(lista)"
      ],
      "metadata": {
        "id": "We_xABCr30xT"
      },
      "execution_count": null,
      "outputs": []
    },
    {
      "cell_type": "markdown",
      "source": [
        "Interacciòn 7:"
      ],
      "metadata": {
        "id": "XZ4N2aAi33lC"
      }
    },
    {
      "cell_type": "code",
      "source": [
        "lista=[]\n",
        "i=7\n",
        "while i<11:\n",
        "    lista.append(i)\n",
        "    i=i+1\n",
        "    if i>10:\n",
        "      lista.append(1)\n",
        "      lista.append(2)\n",
        "      lista.append(3)\n",
        "      lista.append(4)\n",
        "      lista.append(5)\n",
        "      lista.append(6)\n",
        "print(lista)"
      ],
      "metadata": {
        "id": "HPx89dZ_36iC"
      },
      "execution_count": null,
      "outputs": []
    },
    {
      "cell_type": "markdown",
      "source": [
        "Interacciòn 8:"
      ],
      "metadata": {
        "id": "p1z8F2xy39YC"
      }
    },
    {
      "cell_type": "code",
      "source": [
        "lista=[]\n",
        "i=8\n",
        "while i<11:\n",
        "    lista.append(i)\n",
        "    i=i+1\n",
        "    if i>10:\n",
        "      lista.append(1)\n",
        "      lista.append(2)\n",
        "      lista.append(3)\n",
        "      lista.append(4)\n",
        "      lista.append(5)\n",
        "      lista.append(6)\n",
        "      lista.append(7)\n",
        "print(lista)"
      ],
      "metadata": {
        "id": "n4qKzG1M4AG6"
      },
      "execution_count": null,
      "outputs": []
    },
    {
      "cell_type": "markdown",
      "source": [
        "Interacciòn 9:"
      ],
      "metadata": {
        "id": "ThSfnENr4DIK"
      }
    },
    {
      "cell_type": "code",
      "source": [
        "lista=[]\n",
        "i=9\n",
        "while i<11:\n",
        "    lista.append(i)\n",
        "    i=i+1\n",
        "    if i>10:\n",
        "      lista.append(1)\n",
        "      lista.append(2)\n",
        "      lista.append(3)\n",
        "      lista.append(4)\n",
        "      lista.append(5)\n",
        "      lista.append(6)\n",
        "      lista.append(7)\n",
        "      lista.append(8)\n",
        "print(lista)"
      ],
      "metadata": {
        "colab": {
          "base_uri": "https://localhost:8080/"
        },
        "id": "QmrwBOi-4EuL",
        "outputId": "5093f66b-3d58-4dc9-af18-1b7ccfa49eda"
      },
      "execution_count": null,
      "outputs": [
        {
          "output_type": "stream",
          "name": "stdout",
          "text": [
            "[9, 10, 1, 2, 3, 4, 5, 6, 7, 8]\n"
          ]
        }
      ]
    },
    {
      "cell_type": "markdown",
      "source": [
        "Interacciòn 10:"
      ],
      "metadata": {
        "id": "wS0Wxxoz4Oqz"
      }
    },
    {
      "cell_type": "code",
      "source": [
        "lista=[]\n",
        "i=10\n",
        "while i<11:\n",
        "    lista.append(i)\n",
        "    i=i+1\n",
        "    if i>10:\n",
        "      lista.append(1)\n",
        "      lista.append(2)\n",
        "      lista.append(3)\n",
        "      lista.append(4)\n",
        "      lista.append(5)\n",
        "      lista.append(6)\n",
        "      lista.append(7)\n",
        "      lista.append(8)\n",
        "      lista.append(9)\n",
        "print(lista)"
      ],
      "metadata": {
        "id": "KyJ2rRCc4ROL"
      },
      "execution_count": null,
      "outputs": []
    },
    {
      "cell_type": "markdown",
      "source": [
        "# Ejercicio #2 :D"
      ],
      "metadata": {
        "id": "YLJuElAjx7Ak"
      }
    },
    {
      "cell_type": "code",
      "source": [
        "import random\n",
        "\n",
        "def listaAleatorios(n):\n",
        "      lista = [0]  * 20\n",
        "      for i in range(n):\n",
        "          lista[i] = random.randint(0, 100)\n",
        "      return lista\n",
        "      if i==i:\n",
        "        i=\"\"\n",
        "aleatorios=listaAleatorios(n)\n",
        "print(aleatorios)"
      ],
      "metadata": {
        "colab": {
          "base_uri": "https://localhost:8080/"
        },
        "id": "qRa76P77yNPV",
        "outputId": "4c4c17a3-7e9b-42fe-fc93-e6674daae6a6"
      },
      "execution_count": null,
      "outputs": [
        {
          "output_type": "stream",
          "name": "stdout",
          "text": [
            "[93, 94, 96, 32, 5, 25, 3, 55, 2, 61, 68, 52, 4, 71, 99, 63, 0, 4, 72, 3]\n"
          ]
        }
      ]
    },
    {
      "cell_type": "markdown",
      "source": [
        "# Ejercicio #3 :D"
      ],
      "metadata": {
        "id": "eWAynqmE5IcT"
      }
    },
    {
      "cell_type": "code",
      "source": [
        "import random\n",
        "import numpy as np \n",
        "  \n",
        "matrice = np.random.randint(1000, size=(10, 10)) \n",
        "\n",
        "mayor = matrice[0][0]\n",
        "menor = matrice[0][0]\n",
        "\n",
        "for fila in matrice:\n",
        "    for valor in fila:\n",
        "        if valor > mayor:\n",
        "            mayor = valor\n",
        "        if valor < menor:\n",
        "            menor = valor\n",
        "\n",
        "print(\"De la matrice: \")\n",
        "print(\"\")\n",
        "print(matrice)\n",
        "print(\"\")\n",
        "print(f\"le mineur est: {menor} et le plus ancien est: {mayor}\")\n",
        "print(\"\")\n",
        "Pmayor = np.where(matrice==mayor)\n",
        "print(Pmayor)\n",
        "print(\"\")\n",
        "Pmenor = np.where(matrice==menor)\n",
        "print(Pmenor)\n"
      ],
      "metadata": {
        "colab": {
          "base_uri": "https://localhost:8080/"
        },
        "id": "9K9-89La6WvD",
        "outputId": "a16e33f8-5d11-49b4-b7fc-7e58af6d4195"
      },
      "execution_count": null,
      "outputs": [
        {
          "output_type": "stream",
          "name": "stdout",
          "text": [
            "De la matrice: \n",
            "\n",
            "[[360 285 809 145  27  38 957 723 917 152]\n",
            " [327 738 487 891  93 926 107 441 668 274]\n",
            " [845 224  17  77 990 886 272  19  25 531]\n",
            " [222 190 675 219 974 906 109 452 697 998]\n",
            " [322 459 287 673 624 458 152 294 285 570]\n",
            " [613 306 533 511 658   7 194 172 571 376]\n",
            " [866 202 526 392 442 986 160 734 626 481]\n",
            " [186  39 605 846 956 356 585 585 502  40]\n",
            " [342 565 947 615 114 644  14 371  38 576]\n",
            " [659 559 288 583 714 594  63  20 123 966]]\n",
            "\n",
            "le mineur est: 7 et le plus ancien est: 998\n",
            "\n",
            "(array([3]), array([9]))\n",
            "\n",
            "(array([5]), array([5]))\n"
          ]
        }
      ]
    },
    {
      "cell_type": "markdown",
      "source": [
        "# Ejercicio #4 :D"
      ],
      "metadata": {
        "id": "YPdDeLddVbao"
      }
    },
    {
      "cell_type": "code",
      "source": [
        "import random\n",
        "import numpy as np \n",
        "  \n",
        "matrice = np.random.randint(1000, size=(10, 10)) \n",
        "\n",
        "mayor = matrice[0][0]\n",
        "menor = matrice[0][0]\n",
        "\n",
        "for fila in matrice:\n",
        "    for valor in fila:\n",
        "        if valor > mayor:\n",
        "            mayor = valor\n",
        "        if valor < menor:\n",
        "            menor = valor\n",
        "\n",
        "print(matrice)\n",
        "\n",
        "print(\"\")\n",
        "suma = np.sum(matrice, axis=0)\n",
        "print(\"la suma de cada columna es:\")\n",
        "print(suma)"
      ],
      "metadata": {
        "id": "3FUz-LwtVgQQ",
        "colab": {
          "base_uri": "https://localhost:8080/"
        },
        "outputId": "073f6df1-d5ee-4022-d5f6-8fa599bd22be"
      },
      "execution_count": 47,
      "outputs": [
        {
          "output_type": "stream",
          "name": "stdout",
          "text": [
            "[[638   6 621 449 338 110 807 774 260 685]\n",
            " [167  79 415 947 944 274 456 353 991 458]\n",
            " [673 461 692 141 502 748  94 122 241 231]\n",
            " [709 540 688 893  36 904 768 231 978 179]\n",
            " [102 110 932 540 480 675 387 249 323 914]\n",
            " [462 277 427 923  62  86 221 197 305 816]\n",
            " [326 238 995 788 706 261 262 155 895 936]\n",
            " [172 418 499 924 713 977 447 848 677  27]\n",
            " [894 256 289 502 483 573 969 199 342 793]\n",
            " [973 371 355 604 711  53 459 741 747 391]]\n",
            "\n",
            "la suma de cada columna es:\n",
            "[5116 2756 5913 6711 4975 4661 4870 3869 5759 5430]\n"
          ]
        }
      ]
    }
  ]
}